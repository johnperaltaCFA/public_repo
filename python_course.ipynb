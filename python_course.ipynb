{
 "cells": [
  {
   "cell_type": "code",
   "execution_count": 8,
   "metadata": {},
   "outputs": [
    {
     "name": "stdout",
     "output_type": "stream",
     "text": [
      "Hello Python World!\n",
      "Hello Python World!\n",
      "\n",
      "John Peralta\n",
      "JOHN PERALTA\n",
      "john peralta\n",
      "\n",
      "John Peralta\n",
      "\n",
      "\tspace_and_tab\n",
      "\n",
      "    John\n",
      "John     \n",
      "John\n",
      "\n",
      "https://www.johnperalta.com\n",
      "johnperalta.com\n",
      "https://www.johnperalta\n",
      "johnperalta\n",
      "\n",
      "John Peralta is learning python\n",
      "\n",
      "SELECT\n",
      "\tticker,\n",
      "\theadline\n",
      "FROM\n",
      "\tpress_release\n"
     ]
    }
   ],
   "source": [
    "# Strings\n",
    "\n",
    "print(\"Hello Python World!\")\n",
    "message = 'Hello Python World!'\n",
    "print(f\"{message}\")\n",
    "\n",
    "name = \"john peralta\"\n",
    "print(f\"\\n{name.title()}\")\n",
    "print(name.upper())\n",
    "print(name.lower())\n",
    "\n",
    "first_name = 'john'\n",
    "last_name = 'peralta'\n",
    "print(f\"\\n{first_name.title()} {last_name.title()}\")\n",
    "\n",
    "space_and_tab = \"\\n\\tspace_and_tab\\n\"\n",
    "print(space_and_tab)\n",
    "\n",
    "need_strip = '    John     '\n",
    "print(need_strip.rstrip())\n",
    "print(need_strip.lstrip())\n",
    "print(need_strip.strip()+'\\n')\n",
    "\n",
    "raw_url = 'https://www.johnperalta.com'\n",
    "print(raw_url)\n",
    "print(raw_url.removeprefix(\"https://www.\"))\n",
    "print(raw_url.removesuffix(\".com\"))\n",
    "print(raw_url.removeprefix(\"https://www.\").removesuffix(\".com\")+\"\\n\")\n",
    "\n",
    "message = f\"{first_name.title()} {last_name.title()} is learning python\\n\"\n",
    "print(message)\n",
    "\n",
    "sql_query = \"SELECT\\n\\tticker,\\n\\theadline\\nFROM\\n\\tpress_release\"\n",
    "print(sql_query)"
   ]
  },
  {
   "cell_type": "code",
   "execution_count": 9,
   "metadata": {},
   "outputs": [
    {
     "name": "stdout",
     "output_type": "stream",
     "text": [
      "8\n",
      "\n",
      "2\n",
      "\n",
      "15\n",
      "\n",
      "5.0\n",
      "\n",
      "14\n",
      "20\n"
     ]
    }
   ],
   "source": [
    "# Numbers\n",
    "\n",
    "addition = 5 + 3\n",
    "print(addition)\n",
    "print(\"\")\n",
    "\n",
    "subtraction = 5 - 3\n",
    "print(subtraction)\n",
    "print(\"\")\n",
    "\n",
    "multiplication = 5 * 3\n",
    "print(multiplication)\n",
    "print(\"\")\n",
    "\n",
    "division = 10 / 2\n",
    "print(division)\n",
    "print(\"\")\n",
    "\n",
    "bedmas_1 = 2 + 3 * 4\n",
    "bedmas_2 = (2 + 3) * 4\n",
    "print(bedmas_1)\n",
    "print(bedmas_2)\n"
   ]
  },
  {
   "cell_type": "code",
   "execution_count": null,
   "metadata": {},
   "outputs": [
    {
     "name": "stdout",
     "output_type": "stream",
     "text": [
      "0.2\n",
      "\n",
      "Any operation containing a float will return a float. Any division also results in a float.\n",
      "\n",
      "An '_' can be used to make numbers more readable.\n",
      "For Example: 5000000\n",
      "\n",
      "Multiple varaibles can be assigned on the same line. This is commonly used when initiating 2 pointers on LeetCode problems.\n",
      "0 4\n",
      "\n",
      "\n",
      "Python doesn't have a built in 'Constant' type. You can only declare a variable and make it all caps to show that it's a variable.\n",
      "7\n",
      "8\n"
     ]
    }
   ],
   "source": [
    "# Floats\n",
    "\n",
    "addition = 0.1 + 0.1\n",
    "print(addition)\n",
    "print(\"\")\n",
    "\n",
    "message = \"Any operation containing a float will return a float. Any division also results in a float.\"\n",
    "print(message+'\\n')\n",
    "\n",
    "message = \"An '_' can be used to make numbers more readable.\"\n",
    "underscore_example = 5_000_000\n",
    "print(message)\n",
    "print(\"For Example: \" + str(underscore_example)+'\\n')\n",
    "\n",
    "message = \"Multiple varaibles can be assigned on the same line. This is commonly used when initiating 2 pointers on LeetCode problems.\"\n",
    "print(message)\n",
    "\n",
    "practice_array = [0, 1, 2, 3, 4]\n",
    "left_pointer, right_pointer = 0, len(practice_array) -  1\n",
    "print(practice_array[left_pointer], practice_array[right_pointer])\n",
    "\n",
    "message = \"\\nPython doesn't have a built in 'Constant' type. You can only declare a variable and make it all caps to show that it's a variable.\"\n",
    "MY_FAVE_NUMBER = 7\n",
    "print('\\n'+message)\n",
    "print(MY_FAVE_NUMBER)\n"
   ]
  },
  {
   "cell_type": "code",
   "execution_count": null,
   "metadata": {},
   "outputs": [],
   "source": []
  }
 ],
 "metadata": {
  "kernelspec": {
   "display_name": ".venv",
   "language": "python",
   "name": "python3"
  },
  "language_info": {
   "codemirror_mode": {
    "name": "ipython",
    "version": 3
   },
   "file_extension": ".py",
   "mimetype": "text/x-python",
   "name": "python",
   "nbconvert_exporter": "python",
   "pygments_lexer": "ipython3",
   "version": "3.13.1"
  }
 },
 "nbformat": 4,
 "nbformat_minor": 2
}
