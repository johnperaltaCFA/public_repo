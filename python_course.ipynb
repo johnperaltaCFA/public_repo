{
 "cells": [
  {
   "cell_type": "code",
   "execution_count": 30,
   "metadata": {},
   "outputs": [
    {
     "name": "stdout",
     "output_type": "stream",
     "text": [
      "Hello Python World!\n",
      "Hello Python World!\n",
      "\n",
      "John Peralta\n",
      "JOHN PERALTA\n",
      "john peralta\n",
      "\n",
      "John Peralta\n",
      "\n",
      "\tspace_and_tab\n",
      "\n",
      "    John\n",
      "John     \n",
      "John\n",
      "\n",
      "https://www.johnperalta.com\n",
      "johnperalta.com\n",
      "https://www.johnperalta\n",
      "johnperalta\n",
      "\n",
      "John Peralta is learning python\n",
      "\n",
      "SELECT\n",
      "\tticker,\n",
      "\theadline\n",
      "FROM\n",
      "\tpress_release\n"
     ]
    }
   ],
   "source": [
    "# Strings\n",
    "print(\"Hello Python World!\")\n",
    "message = 'Hello Python World!'\n",
    "print(f\"{message}\")\n",
    "\n",
    "name = \"john peralta\"\n",
    "print(f\"\\n{name.title()}\")\n",
    "print(name.upper())\n",
    "print(name.lower())\n",
    "\n",
    "first_name = 'john'\n",
    "last_name = 'peralta'\n",
    "print(f\"\\n{first_name.title()} {last_name.title()}\")\n",
    "\n",
    "space_and_tab = \"\\n\\tspace_and_tab\\n\"\n",
    "print(space_and_tab)\n",
    "\n",
    "need_strip = '    John     '\n",
    "print(need_strip.rstrip())\n",
    "print(need_strip.lstrip())\n",
    "print(need_strip.strip()+'\\n')\n",
    "\n",
    "raw_url = 'https://www.johnperalta.com'\n",
    "print(raw_url)\n",
    "print(raw_url.removeprefix(\"https://www.\"))\n",
    "print(raw_url.removesuffix(\".com\"))\n",
    "print(raw_url.removeprefix(\"https://www.\").removesuffix(\".com\")+\"\\n\")\n",
    "\n",
    "message = f\"{first_name.title()} {last_name.title()} is learning python\\n\"\n",
    "print(message)\n",
    "\n",
    "sql_query = \"SELECT\\n\\tticker,\\n\\theadline\\nFROM\\n\\tpress_release\"\n",
    "print(sql_query)"
   ]
  },
  {
   "cell_type": "code",
   "execution_count": 31,
   "metadata": {},
   "outputs": [
    {
     "name": "stdout",
     "output_type": "stream",
     "text": [
      "8\n",
      "\n",
      "2\n",
      "\n",
      "15\n",
      "\n",
      "5.0\n",
      "\n",
      "14\n",
      "20\n"
     ]
    }
   ],
   "source": [
    "# Numbers\n",
    "addition = 5 + 3\n",
    "print(addition)\n",
    "print(\"\")\n",
    "\n",
    "subtraction = 5 - 3\n",
    "print(subtraction)\n",
    "print(\"\")\n",
    "\n",
    "multiplication = 5 * 3\n",
    "print(multiplication)\n",
    "print(\"\")\n",
    "\n",
    "division = 10 / 2\n",
    "print(division)\n",
    "print(\"\")\n",
    "\n",
    "bedmas_1 = 2 + 3 * 4\n",
    "bedmas_2 = (2 + 3) * 4\n",
    "print(bedmas_1)\n",
    "print(bedmas_2)\n"
   ]
  },
  {
   "cell_type": "code",
   "execution_count": 32,
   "metadata": {},
   "outputs": [
    {
     "name": "stdout",
     "output_type": "stream",
     "text": [
      "0.2\n",
      "\n",
      "Any operation containing a float will return a float. Any division also results in a float.\n",
      "\n",
      "An '_' can be used to make numbers more readable.\n",
      "For Example: 5000000\n",
      "\n",
      "Multiple varaibles can be assigned on the same line. This is commonly used when initiating 2 pointers on LeetCode problems.\n",
      "0 4\n",
      "\n",
      "\n",
      "Python doesn't have a built in 'Constant' type. You can only declare a variable and make it all caps to show that it's a variable.\n",
      "7\n"
     ]
    }
   ],
   "source": [
    "# Floats\n",
    "addition = 0.1 + 0.1\n",
    "print(addition)\n",
    "print(\"\")\n",
    "\n",
    "message = \"Any operation containing a float will return a float. Any division also results in a float.\"\n",
    "print(message+'\\n')\n",
    "\n",
    "message = \"An '_' can be used to make numbers more readable.\"\n",
    "underscore_example = 5_000_000\n",
    "print(message)\n",
    "print(\"For Example: \" + str(underscore_example)+'\\n')\n",
    "\n",
    "message = \"Multiple varaibles can be assigned on the same line. This is commonly used when initiating 2 pointers on LeetCode problems.\"\n",
    "print(message)\n",
    "\n",
    "practice_array = [0, 1, 2, 3, 4]\n",
    "left_pointer, right_pointer = 0, len(practice_array) -  1\n",
    "print(practice_array[left_pointer], practice_array[right_pointer])\n",
    "\n",
    "message = \"\\nPython doesn't have a built in 'Constant' type. You can only declare a variable and make it all caps to show that it's a variable.\"\n",
    "MY_FAVE_NUMBER = 7\n",
    "print('\\n'+message)\n",
    "print(MY_FAVE_NUMBER)\n"
   ]
  },
  {
   "cell_type": "code",
   "execution_count": null,
   "metadata": {},
   "outputs": [
    {
     "name": "stdout",
     "output_type": "stream",
     "text": [
      "Most lists should have names that are plural, eg. bicycles, names, urls, etc.\n",
      "\n",
      "['trek', 'cannondale', 'gt', 'redline', 'specialized', 'ironhorse']\n",
      "Looking for Index 1: cannondale\n",
      "String Manipulation Works eg. Title Case: Cannondale\n",
      "The last element of a list can be pulled with negative index eg. [-1]: ironhorse\n",
      "My first bike was an Ironhorse from Walmart.\n",
      "\n",
      "Hey Vodka, my old friend!\n",
      "Hey Brandy, my old friend!\n",
      "Hey Whiskey, my old friend!\n",
      "Hey Tequila, my old friend!\n",
      "\n",
      "['congee', 'ramen', 'tomyum']\n",
      "['congee', 'instant_ramen', 'tomyum']\n",
      "['congee', 'instant_ramen', 'tomyum', 'pho']\n",
      "\n",
      "[0, 1, 3, 4]\n"
     ]
    },
    {
     "ename": "TypeError",
     "evalue": "'str' object cannot be interpreted as an integer",
     "output_type": "error",
     "traceback": [
      "\u001b[0;31m---------------------------------------------------------------------------\u001b[0m",
      "\u001b[0;31mTypeError\u001b[0m                                 Traceback (most recent call last)",
      "Cell \u001b[0;32mIn[48], line 37\u001b[0m\n\u001b[1;32m     35\u001b[0m \u001b[38;5;66;03m# Inserting elements into a list.\u001b[39;00m\n\u001b[1;32m     36\u001b[0m hello_list \u001b[38;5;241m=\u001b[39m [\u001b[38;5;124m'\u001b[39m\u001b[38;5;124mhi\u001b[39m\u001b[38;5;124m'\u001b[39m]\n\u001b[0;32m---> 37\u001b[0m \u001b[43mhello_list\u001b[49m\u001b[38;5;241;43m.\u001b[39;49m\u001b[43minsert\u001b[49m\u001b[43m(\u001b[49m\u001b[38;5;124;43m'\u001b[39;49m\u001b[38;5;124;43mthere\u001b[39;49m\u001b[38;5;124;43m'\u001b[39;49m\u001b[43m,\u001b[49m\u001b[43m \u001b[49m\u001b[38;5;124;43m'\u001b[39;49m\u001b[38;5;124;43mbuddy\u001b[39;49m\u001b[38;5;124;43m'\u001b[39;49m\u001b[43m)\u001b[49m\n\u001b[1;32m     38\u001b[0m \u001b[38;5;28mprint\u001b[39m(hello_list)\n",
      "\u001b[0;31mTypeError\u001b[0m: 'str' object cannot be interpreted as an integer"
     ]
    }
   ],
   "source": [
    "# Lists\n",
    "message = \"Most lists should have names that are plural, eg. bicycles, names, urls, etc.\"\n",
    "bicycles = ['trek', 'cannondale', 'gt', 'redline', 'specialized', 'ironhorse']\n",
    "print(message+'\\n')\n",
    "print(bicycles)\n",
    "\n",
    "# To access an element use index starting with 0 and square brackets '[]'.\n",
    "print(\"Looking for Index 1:\", bicycles[1])\n",
    "print(\"String Manipulation Works eg. Title Case:\", bicycles[1].title())\n",
    "print(\"The last element of a list can be pulled with negative index eg. [-1]:\", bicycles[-1])\n",
    "print(f\"My first bike was an {bicycles[-1].title()} from Walmart.\\n\")\n",
    "\n",
    "# Try it Yourself\n",
    "friend_names = ['vodka', 'brandy', 'whiskey', 'tequila']\n",
    "for name in friend_names:\n",
    "    print(f\"Hey {name.title()}, my old friend!\")\n",
    "print(\"\")\n",
    "\n",
    "# Modifying, Adding and Removing Elements\n",
    "soups = ['congee', 'ramen', 'tomyum']\n",
    "print(soups)\n",
    "soups[1] = 'instant_ramen'\n",
    "print(soups)\n",
    "soups.append('pho')\n",
    "print(soups)\n",
    "print(\"\")\n",
    "\n",
    "# Initating a List then adding to the list and maniplating it.\n",
    "num_list = []\n",
    "for i in range(5):\n",
    "    num_list.append(i)\n",
    "num_list.pop(2)\n",
    "print(num_list)\n",
    "\n",
    "# Inserting elements into a list.\n",
    "car_brands = \n"
   ]
  }
 ],
 "metadata": {
  "kernelspec": {
   "display_name": ".venv",
   "language": "python",
   "name": "python3"
  },
  "language_info": {
   "codemirror_mode": {
    "name": "ipython",
    "version": 3
   },
   "file_extension": ".py",
   "mimetype": "text/x-python",
   "name": "python",
   "nbconvert_exporter": "python",
   "pygments_lexer": "ipython3",
   "version": "3.13.1"
  }
 },
 "nbformat": 4,
 "nbformat_minor": 2
}
