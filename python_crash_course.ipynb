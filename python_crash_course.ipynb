{
  "cells": [
    {
      "cell_type": "code",
      "execution_count": 2,
      "metadata": {
        "colab": {
          "base_uri": "https://localhost:8080/"
        },
        "id": "-SCCN1Z42kQk",
        "outputId": "fd849f44-9b2f-4b05-f67b-82df09df909d"
      },
      "outputs": [
        {
          "name": "stdout",
          "output_type": "stream",
          "text": [
            "Hello Python World!\n"
          ]
        }
      ],
      "source": [
        "# simple print function\n",
        "print(\"Hello Python World!\")"
      ]
    },
    {
      "cell_type": "code",
      "execution_count": 3,
      "metadata": {
        "colab": {
          "base_uri": "https://localhost:8080/"
        },
        "id": "hDlQ9FWq2zS-",
        "outputId": "c1973006-67e3-4a50-f1fb-f4f0c000ddbb"
      },
      "outputs": [
        {
          "name": "stdout",
          "output_type": "stream",
          "text": [
            "Hello Python World!\n"
          ]
        }
      ],
      "source": [
        "# print function using a variable as an input.\n",
        "message = \"Hello Python World!\"\n",
        "print(message)"
      ]
    },
    {
      "cell_type": "code",
      "execution_count": 4,
      "metadata": {
        "colab": {
          "base_uri": "https://localhost:8080/"
        },
        "id": "qQ9Dx7GF3P_H",
        "outputId": "8d066301-ba66-4ad8-81de-31d29f99f277"
      },
      "outputs": [
        {
          "name": "stdout",
          "output_type": "stream",
          "text": [
            "John Peralta\n",
            "john peralta\n",
            "JOHN PERALTA\n"
          ]
        }
      ],
      "source": [
        "# changing cases in strings\n",
        "name = \"john peralta\"\n",
        "print(name.title())\n",
        "print(name.lower())\n",
        "print(name.upper())"
      ]
    },
    {
      "cell_type": "code",
      "execution_count": 5,
      "metadata": {
        "colab": {
          "base_uri": "https://localhost:8080/"
        },
        "id": "14Lm_Rl23wZI",
        "outputId": "2f657d39-d36b-4667-86cb-a23e8c8931fc"
      },
      "outputs": [
        {
          "name": "stdout",
          "output_type": "stream",
          "text": [
            "Hey, John Peralta!\n"
          ]
        }
      ],
      "source": [
        "# format strings\n",
        "first_name = 'john'\n",
        "last_name = 'peralta'\n",
        "format_string_sample = f\"Hey, {first_name.title()} {last_name.title()}!\"\n",
        "print(format_string_sample)"
      ]
    },
    {
      "cell_type": "code",
      "execution_count": 6,
      "metadata": {
        "colab": {
          "base_uri": "https://localhost:8080/"
        },
        "id": "XoUnM-Y34iA4",
        "outputId": "6dd8bf2e-1bf4-4f5f-b009-ebc940ec0611"
      },
      "outputs": [
        {
          "name": "stdout",
          "output_type": "stream",
          "text": [
            "first_line\n",
            "\tsecond_line\n"
          ]
        }
      ],
      "source": [
        "# adding tabs or new lines\n",
        "whitespace_sample = \"first_line\\n\\tsecond_line\"\n",
        "print(whitespace_sample)"
      ]
    },
    {
      "cell_type": "code",
      "execution_count": 7,
      "metadata": {
        "colab": {
          "base_uri": "https://localhost:8080/"
        },
        "id": "9-QTZ2Kz51lx",
        "outputId": "ad343f40-988c-4c5b-e7da-504e00d5dc8f"
      },
      "outputs": [
        {
          "name": "stdout",
          "output_type": "stream",
          "text": [
            "raw_string      \n",
            "raw_string\n",
            "         raw_string\n"
          ]
        }
      ],
      "source": [
        "# removing white space\n",
        "raw_string = \"         raw_string      \"\n",
        "print(raw_string.lstrip())\n",
        "print(raw_string.strip())\n",
        "print(raw_string.rstrip())"
      ]
    },
    {
      "cell_type": "code",
      "execution_count": 8,
      "metadata": {
        "colab": {
          "base_uri": "https://localhost:8080/"
        },
        "id": "amFpo6W764Pq",
        "outputId": "7ca8fd1b-1b14-4b76-a5ca-667cf7832799"
      },
      "outputs": [
        {
          "name": "stdout",
          "output_type": "stream",
          "text": [
            "johnperalta\n"
          ]
        }
      ],
      "source": [
        "# prefix and suffix removal\n",
        "raw_url = \"www.johnperalta.com\"\n",
        "unwanted_prefix = \"www.\"\n",
        "unwanted_suffix = \".com\"\n",
        "print(raw_url.removeprefix(\"www.\").removesuffix(\".com\"))"
      ]
    },
    {
      "cell_type": "code",
      "execution_count": 9,
      "metadata": {
        "colab": {
          "base_uri": "https://localhost:8080/"
        },
        "id": "EQpPcZaE7U5F",
        "outputId": "17671919-660c-4385-98f2-6e3d8f6ea311"
      },
      "outputs": [
        {
          "name": "stdout",
          "output_type": "stream",
          "text": [
            "Sup John!\n"
          ]
        }
      ],
      "source": [
        "# practice a f-string\n",
        "person_name = 'john'\n",
        "personal_message = f\"Sup {person_name.title()}!\"\n",
        "print(personal_message)"
      ]
    },
    {
      "cell_type": "code",
      "execution_count": 10,
      "metadata": {
        "colab": {
          "base_uri": "https://localhost:8080/"
        },
        "id": "dtn8HFAB9Ehj",
        "outputId": "7bd587db-8919-484f-a469-774eebb0764c"
      },
      "outputs": [
        {
          "name": "stdout",
          "output_type": "stream",
          "text": [
            "2\n",
            "8\n",
            "1.6666666666666667\n",
            "15\n"
          ]
        }
      ],
      "source": [
        "# integers\n",
        "subtraction = 5 - 3\n",
        "addition = 5 + 3\n",
        "division = 5 / 3\n",
        "multiplication = 5 * 3\n",
        "\n",
        "print(subtraction)\n",
        "print(addition)\n",
        "print(division)\n",
        "print(multiplication)"
      ]
    },
    {
      "cell_type": "code",
      "execution_count": 11,
      "metadata": {
        "colab": {
          "base_uri": "https://localhost:8080/"
        },
        "id": "TwxMaEoh9mnM",
        "outputId": "efa04a35-71d0-4162-e3be-de2e282ce46f"
      },
      "outputs": [
        {
          "name": "stdout",
          "output_type": "stream",
          "text": [
            "6\n",
            "9\n"
          ]
        }
      ],
      "source": [
        "# different ways to multiply\n",
        "regular = 3 * 2\n",
        "exponent = 3 ** 2\n",
        "print(regular)\n",
        "print(exponent)"
      ]
    },
    {
      "cell_type": "code",
      "execution_count": 12,
      "metadata": {
        "colab": {
          "base_uri": "https://localhost:8080/"
        },
        "id": "ZKpDmn-m-O93",
        "outputId": "e74b8916-7808-443f-f684-b1c87db1ab46"
      },
      "outputs": [
        {
          "name": "stdout",
          "output_type": "stream",
          "text": [
            "14\n",
            "20\n"
          ]
        }
      ],
      "source": [
        "# bedmas sample\n",
        "fourteen = 2 + 3*4\n",
        "twenty = (2 + 3) * 4\n",
        "print(fourteen)\n",
        "print(twenty)"
      ]
    },
    {
      "cell_type": "code",
      "execution_count": 13,
      "metadata": {
        "colab": {
          "base_uri": "https://localhost:8080/"
        },
        "id": "sIwIZkjB-7jk",
        "outputId": "c6738848-0db9-4ffd-efa9-f4e33b5f9c85"
      },
      "outputs": [
        {
          "name": "stdout",
          "output_type": "stream",
          "text": [
            "0.2\n",
            "0.5\n",
            "0.6\n",
            "0.6666666666666666\n"
          ]
        }
      ],
      "source": [
        "# any operation with a float will output a float\n",
        "point_two = 0.1 + 0.1\n",
        "point_five = 0.2 + 0.3\n",
        "point_six = 0.3 * 2\n",
        "point_sixforever = 2/3\n",
        "\n",
        "print(point_two)\n",
        "print(point_five)\n",
        "print(point_six)\n",
        "print(point_sixforever)\n"
      ]
    },
    {
      "cell_type": "code",
      "execution_count": 14,
      "metadata": {
        "colab": {
          "base_uri": "https://localhost:8080/"
        },
        "id": "p2PeOLqm_uJf",
        "outputId": "7bc8529f-3fbb-41c1-a893-614aba790d8b"
      },
      "outputs": [
        {
          "name": "stdout",
          "output_type": "stream",
          "text": [
            "14000000\n"
          ]
        }
      ],
      "source": [
        "# you can use _ to make it easier to read large numbers\n",
        "fourteen_million = 14_000_000\n",
        "print(fourteen_million)"
      ]
    },
    {
      "cell_type": "code",
      "execution_count": 15,
      "metadata": {
        "colab": {
          "base_uri": "https://localhost:8080/"
        },
        "id": "qQVtLwcUDGwa",
        "outputId": "4d7a142c-6c6e-4ce7-db5b-7dc282d1630e"
      },
      "outputs": [
        {
          "name": "stdout",
          "output_type": "stream",
          "text": [
            "x_axis\n",
            "y_axis\n",
            "z_axis\n"
          ]
        }
      ],
      "source": [
        "# multiple assignement on one line of code\n",
        "x, y, z = 'x_axis', 'y_axis', 'z_axis'\n",
        "print(x)\n",
        "print(y)\n",
        "print(z)"
      ]
    },
    {
      "cell_type": "code",
      "execution_count": 16,
      "metadata": {
        "colab": {
          "base_uri": "https://localhost:8080/"
        },
        "id": "qO62jfJCD1gR",
        "outputId": "fd7290b1-c0fa-4ffd-b849-5e5b92092110"
      },
      "outputs": [
        {
          "name": "stdout",
          "output_type": "stream",
          "text": [
            "7\n",
            "9\n"
          ]
        }
      ],
      "source": [
        "\"\"\" you can't make constants in python, you can only label constants and\n",
        "respect them, below is disrespect. \"\"\"\n",
        "BIRTHDAY = 7\n",
        "print(BIRTHDAY)\n",
        "BIRTHDAY = 7 + 2\n",
        "print(BIRTHDAY)"
      ]
    },
    {
      "cell_type": "code",
      "execution_count": 17,
      "metadata": {
        "colab": {
          "base_uri": "https://localhost:8080/"
        },
        "id": "bfFrn75YFA_J",
        "outputId": "195c794f-9f6b-4147-a9dc-6e50accabb0f"
      },
      "outputs": [
        {
          "name": "stdout",
          "output_type": "stream",
          "text": [
            "8\n",
            "8.0\n",
            "8\n",
            "8.0\n",
            "8\n"
          ]
        }
      ],
      "source": [
        "# practice, make 8 four different ways\n",
        "eight_one = 5 + 3\n",
        "eight_two = 16 / 2\n",
        "eight_three = 11 - 3\n",
        "eight_four = 16 * .5\n",
        "ATE = 8\n",
        "\n",
        "print(eight_one)\n",
        "print(eight_two)\n",
        "print(eight_three)\n",
        "print(eight_four)\n",
        "print(ATE)"
      ]
    },
    {
      "cell_type": "code",
      "execution_count": 18,
      "metadata": {
        "colab": {
          "base_uri": "https://localhost:8080/"
        },
        "id": "YuveTHhRKRdl",
        "outputId": "05323697-2af5-4899-f3fd-ce4e0158db05"
      },
      "outputs": [
        {
          "name": "stdout",
          "output_type": "stream",
          "text": [
            "['schnoodle', 'maltipoo', 'labradoodle']\n"
          ]
        }
      ],
      "source": [
        "# list examples\n",
        "poodle_types = ['schnoodle', 'maltipoo', 'labradoodle']\n",
        "print(poodle_types)"
      ]
    },
    {
      "cell_type": "code",
      "execution_count": 19,
      "metadata": {
        "colab": {
          "base_uri": "https://localhost:8080/"
        },
        "id": "XWEKgCUKLOGT",
        "outputId": "dbc9c0ef-5e6a-4b7f-f4cb-5136608d98f4"
      },
      "outputs": [
        {
          "name": "stdout",
          "output_type": "stream",
          "text": [
            "schnoodle\n",
            "labradoodle\n"
          ]
        }
      ],
      "source": [
        "# use square brackets to access elements of a list\n",
        "first_poodle_type = poodle_types[0]\n",
        "last_poodle_type = poodle_types[-1]\n",
        "print(first_poodle_type)\n",
        "print(last_poodle_type)"
      ]
    },
    {
      "cell_type": "code",
      "execution_count": 20,
      "metadata": {
        "colab": {
          "base_uri": "https://localhost:8080/"
        },
        "id": "4V5UApB9Mczi",
        "outputId": "d372f658-94b1-448b-a32f-629fa64f530d"
      },
      "outputs": [
        {
          "name": "stdout",
          "output_type": "stream",
          "text": [
            "Schnoodle types are usually small in stature.\n"
          ]
        }
      ],
      "source": [
        "# grabbing elemnt in a list and using it in an f-string\n",
        "message = f\"{first_poodle_type.title()} types are usually small in stature.\"\n",
        "print(message)"
      ]
    },
    {
      "cell_type": "code",
      "execution_count": 21,
      "metadata": {
        "colab": {
          "base_uri": "https://localhost:8080/"
        },
        "id": "lG_bXncfNMqc",
        "outputId": "6b7e516b-c61f-48ec-91f6-391eca845824"
      },
      "outputs": [
        {
          "name": "stdout",
          "output_type": "stream",
          "text": [
            "schnoodle\n",
            "maltipoo\n",
            "labradoodle\n"
          ]
        }
      ],
      "source": [
        "# printing out every element in a list\n",
        "for poodle_type in poodle_types:\n",
        "  print(poodle_type)"
      ]
    },
    {
      "cell_type": "code",
      "execution_count": 22,
      "metadata": {
        "colab": {
          "base_uri": "https://localhost:8080/"
        },
        "id": "BcBjRqvjNn5k",
        "outputId": "f41b3205-1feb-4a16-ae41-6d35adc64b1e"
      },
      "outputs": [
        {
          "name": "stdout",
          "output_type": "stream",
          "text": [
            "['shihpoo', 'maltipoo', 'labradoodle']\n"
          ]
        }
      ],
      "source": [
        "# modifying an element in a list\n",
        "poodle_types[0] = \"shihpoo\"\n",
        "print(poodle_types)"
      ]
    },
    {
      "cell_type": "code",
      "execution_count": 23,
      "metadata": {
        "colab": {
          "base_uri": "https://localhost:8080/"
        },
        "id": "Ro-zuPI6OoBv",
        "outputId": "9cda50f0-5dca-4a61-c945-fb6c10a306d5"
      },
      "outputs": [
        {
          "name": "stdout",
          "output_type": "stream",
          "text": [
            "['shihpoo', 'maltipoo', 'labradoodle', 'schnoodle']\n"
          ]
        }
      ],
      "source": [
        "# adding an element to a list\n",
        "poodle_types.append(\"schnoodle\")\n",
        "print(poodle_types)"
      ]
    },
    {
      "cell_type": "code",
      "execution_count": 24,
      "metadata": {
        "colab": {
          "base_uri": "https://localhost:8080/"
        },
        "id": "1UNGjpDTPk3i",
        "outputId": "a2d2ee91-6b74-4ad3-b2df-8e8f3924b18a"
      },
      "outputs": [
        {
          "name": "stdout",
          "output_type": "stream",
          "text": [
            "['new_element_one', 'new_element_two', 'new_element_three']\n"
          ]
        }
      ],
      "source": [
        "# you initiate an empty list then add to it\n",
        "list_to_fill = []\n",
        "list_to_fill.append(\"new_element_one\")\n",
        "list_to_fill.append(\"new_element_two\")\n",
        "list_to_fill.append(\"new_element_three\")\n",
        "print(list_to_fill)"
      ]
    },
    {
      "cell_type": "code",
      "execution_count": 25,
      "metadata": {
        "colab": {
          "base_uri": "https://localhost:8080/"
        },
        "id": "4eqb92bfRqUo",
        "outputId": "a527ffa5-2d8a-4d7a-a267-6212aae8030e"
      },
      "outputs": [
        {
          "name": "stdout",
          "output_type": "stream",
          "text": [
            "['new_element_two', 'new_element_three']\n"
          ]
        }
      ],
      "source": [
        "# you can use a del statement to delete an element from a list\n",
        "del list_to_fill[0]\n",
        "print(list_to_fill)"
      ]
    },
    {
      "cell_type": "code",
      "execution_count": 26,
      "metadata": {
        "colab": {
          "base_uri": "https://localhost:8080/"
        },
        "id": "S1m7t-UATpBE",
        "outputId": "a4a2d802-7399-4bb2-cc2f-66fefa8ac5a4"
      },
      "outputs": [
        {
          "name": "stdout",
          "output_type": "stream",
          "text": [
            "['new_element_two', 'new_element_three', 'new_element_four']\n",
            "['new_element_two', 'new_element_three']\n",
            "new_element_four\n"
          ]
        }
      ],
      "source": [
        "\"\"\" you can remove an item using the pop method, this removes the last element\n",
        "you can remove the last element and reuse it, pop is lifo unless a pop index\n",
        "is specified \"\"\"\n",
        "list_to_fill.append(\"new_element_four\")\n",
        "print(list_to_fill)\n",
        "popped_element = list_to_fill.pop()\n",
        "print(list_to_fill)\n",
        "print(popped_element)"
      ]
    },
    {
      "cell_type": "code",
      "execution_count": 27,
      "metadata": {
        "colab": {
          "base_uri": "https://localhost:8080/"
        },
        "id": "08hjxpxFVFOF",
        "outputId": "d22ec1da-30b7-41c9-97aa-9da07c0e483f"
      },
      "outputs": [
        {
          "name": "stdout",
          "output_type": "stream",
          "text": [
            "['honda', 'toyota', 'hyundai']\n",
            "ford\n"
          ]
        }
      ],
      "source": [
        "# an element can be removed from a list based on value\n",
        "car_brands = ['honda', 'toyota', 'ford', 'hyundai']\n",
        "american_brand = \"ford\"\n",
        "car_brands.remove(american_brand)\n",
        "print(car_brands)\n",
        "print(american_brand)"
      ]
    },
    {
      "cell_type": "code",
      "execution_count": 28,
      "metadata": {
        "colab": {
          "base_uri": "https://localhost:8080/"
        },
        "id": "uPS2eaS0jpcm",
        "outputId": "b3b37f0d-8a6b-4a62-b510-12bf20d582ed"
      },
      "outputs": [
        {
          "name": "stdout",
          "output_type": "stream",
          "text": [
            "mike\n",
            "walt\n",
            "jesse\n",
            "skylar\n"
          ]
        }
      ],
      "source": [
        "# practice\n",
        "random_people =['mike', 'walt', 'jesse', 'skylar']\n",
        "for person in random_people:\n",
        "  print(person)"
      ]
    },
    {
      "cell_type": "code",
      "execution_count": 29,
      "metadata": {
        "colab": {
          "base_uri": "https://localhost:8080/"
        },
        "id": "QrsGPNPGkgQS",
        "outputId": "cae048a6-4ad2-41c6-99b2-84233ffd28b1"
      },
      "outputs": [
        {
          "name": "stdout",
          "output_type": "stream",
          "text": [
            "you're officially invited mike!\n",
            "you're officially invited walt!\n",
            "you're officially invited jesse!\n",
            "you're officially invited salamanca!\n",
            "you're officially univited skylar!\n"
          ]
        }
      ],
      "source": [
        "# practice part 2\n",
        "cant_attend = 'skylar'\n",
        "new_person = 'salamanca'\n",
        "random_people[-1] = new_person\n",
        "for person in random_people:\n",
        "  print(f\"you're officially invited {person}!\")\n",
        "print(f\"you're officially univited {cant_attend}!\")"
      ]
    },
    {
      "cell_type": "code",
      "execution_count": 30,
      "metadata": {
        "colab": {
          "base_uri": "https://localhost:8080/"
        },
        "id": "qA2wl7Hans2u",
        "outputId": "85a015e4-d27f-4e12-9b20-0e95662956f5"
      },
      "outputs": [
        {
          "name": "stdout",
          "output_type": "stream",
          "text": [
            "i got a bitter table somehow!!!\n",
            "you're invted to a bigger table bob!\n",
            "you're invted to a bigger table mike!\n",
            "you're invted to a bigger table saul!\n",
            "you're invted to a bigger table walt!\n",
            "you're invted to a bigger table jesse!\n",
            "you're invted to a bigger table salamanca!\n",
            "you're invted to a bigger table ricky!\n"
          ]
        }
      ],
      "source": [
        "# practice part 3\n",
        "print('i got a bitter table somehow!!!')\n",
        "random_people.insert(0, 'bob')\n",
        "random_people.insert(2, 'saul')\n",
        "random_people.append('ricky')\n",
        "for person in random_people:\n",
        "  print(f\"you're invted to a bigger table {person}!\")"
      ]
    },
    {
      "cell_type": "code",
      "execution_count": 31,
      "metadata": {
        "colab": {
          "base_uri": "https://localhost:8080/"
        },
        "id": "XxpP3PiQovvV",
        "outputId": "a56e1155-8f98-40bb-b564-68038a0124b6"
      },
      "outputs": [
        {
          "name": "stdout",
          "output_type": "stream",
          "text": [
            "sorry, I can only take two of you now...\n",
            "sorry ricky, you can't come.\n",
            "sorry salamanca, you can't come.\n",
            "sorry jesse, you can't come.\n",
            "sorry walt, you can't come.\n",
            "sorry saul, you can't come.\n",
            "bob you can still come, you're cool enough.\n",
            "mike you can still come, you're cool enough.\n"
          ]
        }
      ],
      "source": [
        "# practice part 4\n",
        "print('sorry, I can only take two of you now...')\n",
        "\n",
        "while len(random_people) > 2:\n",
        "  cant_come = random_people.pop()\n",
        "  print(f\"sorry {cant_come}, you can't come.\")\n",
        "\n",
        "for person in random_people:\n",
        "  print(f\"{person} you can still come, you're cool enough.\")"
      ]
    },
    {
      "cell_type": "code",
      "execution_count": 32,
      "metadata": {
        "colab": {
          "base_uri": "https://localhost:8080/"
        },
        "id": "49BH3lj5tONB",
        "outputId": "0d13f5db-4835-4173-8cb8-920016181a21"
      },
      "outputs": [
        {
          "name": "stdout",
          "output_type": "stream",
          "text": [
            "no one is invited anymore...\n",
            "[]\n"
          ]
        }
      ],
      "source": [
        "# practice part 5\n",
        "while len(random_people) > 0:\n",
        "  del random_people[0]\n",
        "print('no one is invited anymore...')\n",
        "print(random_people)"
      ]
    },
    {
      "cell_type": "code",
      "execution_count": 33,
      "metadata": {
        "colab": {
          "base_uri": "https://localhost:8080/"
        },
        "id": "olADzlgnvJYN",
        "outputId": "1dcc4160-8138-4349-b15e-601723b72f60"
      },
      "outputs": [
        {
          "name": "stdout",
          "output_type": "stream",
          "text": [
            "['schnauzer', 'pug', 'poodle', 'mixed', 'husky']\n"
          ]
        }
      ],
      "source": [
        "# organizing a list using a permanent sort\n",
        "dog_breeds = ['poodle', 'schnauzer', 'pug', 'husky', 'mixed']\n",
        "dog_breeds.sort(reverse=True)\n",
        "print(dog_breeds)"
      ]
    },
    {
      "cell_type": "code",
      "execution_count": 34,
      "metadata": {
        "colab": {
          "base_uri": "https://localhost:8080/"
        },
        "id": "AfaEwrvGzcdg",
        "outputId": "29991cfa-130b-422d-c33b-1cb68531fbf8"
      },
      "outputs": [
        {
          "name": "stdout",
          "output_type": "stream",
          "text": [
            "['schnauzer', 'pug', 'poodle', 'mixed', 'husky']\n",
            "['husky', 'mixed', 'poodle', 'pug', 'schnauzer']\n",
            "['schnauzer', 'pug', 'poodle', 'mixed', 'husky']\n"
          ]
        }
      ],
      "source": [
        "# organizing a list using a temporary sort\n",
        "print(dog_breeds)\n",
        "print(sorted(dog_breeds))\n",
        "print(dog_breeds)"
      ]
    },
    {
      "cell_type": "code",
      "execution_count": 35,
      "metadata": {
        "colab": {
          "base_uri": "https://localhost:8080/"
        },
        "id": "XyHN4IXFztLp",
        "outputId": "aa12b00f-5d9a-405a-e661-90efc60e9315"
      },
      "outputs": [
        {
          "name": "stdout",
          "output_type": "stream",
          "text": [
            "['one', 'two', 'three', 'four']\n",
            "['four', 'three', 'two', 'one']\n"
          ]
        }
      ],
      "source": [
        "# printing a list in reverse order\n",
        "list_sample = ['one', 'two', 'three', 'four']\n",
        "print(list_sample)\n",
        "list_sample.reverse()\n",
        "print(list_sample)"
      ]
    },
    {
      "cell_type": "code",
      "execution_count": 36,
      "metadata": {
        "colab": {
          "base_uri": "https://localhost:8080/"
        },
        "id": "hXYcr-AD0ltx",
        "outputId": "3093a076-1187-4478-b6a8-8926c96e56dd"
      },
      "outputs": [
        {
          "name": "stdout",
          "output_type": "stream",
          "text": [
            "4\n"
          ]
        }
      ],
      "source": [
        "# finding the length of a list\n",
        "print(len(list_sample))"
      ]
    },
    {
      "cell_type": "code",
      "execution_count": 37,
      "metadata": {
        "colab": {
          "base_uri": "https://localhost:8080/"
        },
        "id": "AzmTrci_1pYg",
        "outputId": "8754ec68-b935-4855-9cf0-b837b48f3347"
      },
      "outputs": [
        {
          "name": "stdout",
          "output_type": "stream",
          "text": [
            "['china', 'japan', 'phillipines', 'canada', 'usa']\n",
            "['canada', 'china', 'japan', 'phillipines', 'usa']\n",
            "['china', 'japan', 'phillipines', 'canada', 'usa']\n",
            "['usa', 'phillipines', 'japan', 'china', 'canada']\n",
            "['china', 'japan', 'phillipines', 'canada', 'usa']\n",
            "['usa', 'canada', 'phillipines', 'japan', 'china']\n",
            "['china', 'japan', 'phillipines', 'canada', 'usa']\n"
          ]
        }
      ],
      "source": [
        "# practice\n",
        "locations = ['china', 'japan', 'phillipines', 'canada', 'usa']\n",
        "print(locations)\n",
        "print(sorted(locations))\n",
        "print(locations)\n",
        "print(sorted(locations, reverse=True))\n",
        "print(locations)\n",
        "\n",
        "locations.reverse()\n",
        "print(locations)\n",
        "locations.reverse()\n",
        "print(locations)\n",
        "\n"
      ]
    },
    {
      "cell_type": "code",
      "execution_count": 38,
      "metadata": {
        "colab": {
          "base_uri": "https://localhost:8080/"
        },
        "id": "Zhbeof-X21v-",
        "outputId": "e120d7e4-8463-4ef7-c0b3-d90d40afe150"
      },
      "outputs": [
        {
          "name": "stdout",
          "output_type": "stream",
          "text": [
            "one\n",
            "two\n",
            "three\n",
            "four\n"
          ]
        }
      ],
      "source": [
        "# Looping through an entire list\n",
        "sample_list = ['one', 'two', 'three', 'four']\n",
        "for element in sample_list:\n",
        "  print(element)"
      ]
    },
    {
      "cell_type": "code",
      "execution_count": 39,
      "metadata": {
        "colab": {
          "base_uri": "https://localhost:8080/"
        },
        "id": "rRHbAygF7Qfs",
        "outputId": "816670fa-af20-42ba-fa91-9f042817404b"
      },
      "outputs": [
        {
          "name": "stdout",
          "output_type": "stream",
          "text": [
            "one=1\n",
            "two=2\n",
            "three=3\n",
            "four=4\n",
            "this is outside the for loop.\n"
          ]
        }
      ],
      "source": [
        "# you can do alot within a code block\n",
        "count = 1\n",
        "for element in sample_list:\n",
        "  print(f\"{element}={count}\")\n",
        "  count += 1\n",
        "print('this is outside the for loop.')"
      ]
    },
    {
      "cell_type": "code",
      "execution_count": 40,
      "metadata": {
        "colab": {
          "base_uri": "https://localhost:8080/"
        },
        "id": "jmsnBNOE89JK",
        "outputId": "eead66c8-2323-4853-c3c7-b5d0983bbc98"
      },
      "outputs": [
        {
          "name": "stdout",
          "output_type": "stream",
          "text": [
            "I like veggie pizza!!!\n",
            "I like pineapple pizza!!!\n",
            "I like pepperoni pizza!!!\n",
            "\n",
            "I really like pizza!!!!!\n"
          ]
        }
      ],
      "source": [
        "# practice\n",
        "pizzas = ['veggie', 'pineapple', 'pepperoni']\n",
        "for pizza in pizzas:\n",
        "  print(f\"I like {pizza} pizza!!!\")\n",
        "print(\"\\nI really like pizza!!!!!\")"
      ]
    },
    {
      "cell_type": "code",
      "execution_count": 41,
      "metadata": {
        "colab": {
          "base_uri": "https://localhost:8080/"
        },
        "id": "1Q735jzFCsgy",
        "outputId": "f0651846-c399-46a6-9aa0-6fca898e48c0"
      },
      "outputs": [
        {
          "name": "stdout",
          "output_type": "stream",
          "text": [
            "A Poodle would make a great pet!\n",
            "A Schnoodle would make a great pet!\n",
            "A Labradoodle would make a great pet!\n",
            "\n",
            "Actually any of these would make a great pet!\n"
          ]
        }
      ],
      "source": [
        "# practice\n",
        "dogs = ['poodle', 'schnoodle', 'labradoodle']\n",
        "for dog in dogs:\n",
        "  print(f\"A {dog.title()} would make a great pet!\")\n",
        "print(\"\\nActually any of these would make a great pet!\")"
      ]
    },
    {
      "cell_type": "code",
      "execution_count": 42,
      "metadata": {
        "colab": {
          "base_uri": "https://localhost:8080/"
        },
        "id": "9SfEVyZpDqt9",
        "outputId": "d30b0380-e489-47e8-c982-51db54ab68d6"
      },
      "outputs": [
        {
          "name": "stdout",
          "output_type": "stream",
          "text": [
            "1\n",
            "2\n",
            "3\n",
            "4\n",
            "\n",
            "the first number is inclusive, the last number is exclusive\n"
          ]
        }
      ],
      "source": [
        "# using range function\n",
        "for value in range(1, 5):\n",
        "  print(value)\n",
        "print(\"\\nthe first number is inclusive, the last number is exclusive\")"
      ]
    },
    {
      "cell_type": "code",
      "execution_count": 43,
      "metadata": {
        "colab": {
          "base_uri": "https://localhost:8080/"
        },
        "id": "cs8T6ZUiGxGb",
        "outputId": "9ebce9ba-bb9f-4713-ad84-8a3e37f1db99"
      },
      "outputs": [
        {
          "name": "stdout",
          "output_type": "stream",
          "text": [
            "[1, 2, 3, 4, 5]\n"
          ]
        }
      ],
      "source": [
        "# turning a range into a list\n",
        "numbers = list(range(1, 6))\n",
        "print(numbers)"
      ]
    },
    {
      "cell_type": "code",
      "execution_count": 44,
      "metadata": {
        "colab": {
          "base_uri": "https://localhost:8080/"
        },
        "id": "AT_rj-_CInav",
        "outputId": "1b63a1a9-e668-4fad-a3f8-afa0877a99ff"
      },
      "outputs": [
        {
          "name": "stdout",
          "output_type": "stream",
          "text": [
            "[3, 6, 9, 12]\n"
          ]
        }
      ],
      "source": [
        "# you can create a range that only shows every three numbers, two numbers, etc.\n",
        "# notice that the 2nd arg which is the end of range isn't include in list\n",
        "multiples_of_three = list(range(3, 15, 3))\n",
        "print(multiples_of_three)"
      ]
    },
    {
      "cell_type": "code",
      "execution_count": 45,
      "metadata": {
        "colab": {
          "base_uri": "https://localhost:8080/"
        },
        "id": "mcZUAp26KmFJ",
        "outputId": "c275f742-b185-4246-a933-47d916a3186c"
      },
      "outputs": [
        {
          "name": "stdout",
          "output_type": "stream",
          "text": [
            "[9, 36, 81, 144]\n"
          ]
        }
      ],
      "source": [
        "# you can operate on every value in a range to build a new list\n",
        "squares_of_threes = []\n",
        "for value in multiples_of_three:\n",
        "  squares_of_threes.append(value ** 2)\n",
        "print(squares_of_threes)"
      ]
    },
    {
      "cell_type": "code",
      "execution_count": 46,
      "metadata": {
        "colab": {
          "base_uri": "https://localhost:8080/"
        },
        "id": "tHDhxlQ3UCzu",
        "outputId": "0cb763aa-eddf-4cab-8631-690cac3c9c12"
      },
      "outputs": [
        {
          "name": "stdout",
          "output_type": "stream",
          "text": [
            "[27, 216, 729, 1728]\n"
          ]
        }
      ],
      "source": [
        "# you can use list comprehensions to build lists in one line of code\n",
        "cubes_of_threes = [value ** 3 for value in range(3, 15, 3)]\n",
        "print(cubes_of_threes)"
      ]
    },
    {
      "cell_type": "code",
      "execution_count": 47,
      "metadata": {
        "colab": {
          "base_uri": "https://localhost:8080/"
        },
        "id": "HT32-WvDYCi5",
        "outputId": "8d2709b2-51be-4cd9-a771-a8dd472e1098"
      },
      "outputs": [
        {
          "name": "stdout",
          "output_type": "stream",
          "text": [
            "27\n",
            "1728\n",
            "2700\n"
          ]
        }
      ],
      "source": [
        "# simple statistics functions\n",
        "min_cube = min(cubes_of_threes)\n",
        "max_cube = max(cubes_of_threes)\n",
        "sum_cubes = sum(cubes_of_threes)\n",
        "\n",
        "print(min_cube)\n",
        "print(max_cube)\n",
        "print(sum_cubes)"
      ]
    },
    {
      "cell_type": "code",
      "execution_count": 48,
      "metadata": {
        "colab": {
          "base_uri": "https://localhost:8080/"
        },
        "id": "bfBJ947qbBAx",
        "outputId": "35b65f48-5458-4edf-fb0a-22d368188850"
      },
      "outputs": [
        {
          "name": "stdout",
          "output_type": "stream",
          "text": [
            "1\n",
            "2\n",
            "3\n",
            "4\n",
            "5\n",
            "6\n",
            "7\n",
            "8\n",
            "9\n",
            "10\n",
            "11\n",
            "12\n",
            "13\n",
            "14\n",
            "15\n",
            "16\n",
            "17\n",
            "18\n",
            "19\n",
            "20\n"
          ]
        }
      ],
      "source": [
        "# practice\n",
        "list_to_twenty = [value for value in range(1, 21)]\n",
        "for value in list_to_twenty:\n",
        "  print(value)"
      ]
    },
    {
      "cell_type": "code",
      "execution_count": 49,
      "metadata": {
        "colab": {
          "base_uri": "https://localhost:8080/"
        },
        "id": "-PZ5mILqb6dB",
        "outputId": "d4409b7b-7ecf-4db4-e36a-9f0c3b59f275"
      },
      "outputs": [
        {
          "name": "stdout",
          "output_type": "stream",
          "text": [
            "[1, 4, 7, 10, 13, 16, 19]\n",
            "1\n",
            "19\n",
            "70\n"
          ]
        }
      ],
      "source": [
        "# practice\n",
        "odd_to_twenty = [value for value in range(1, 21, 3)]\n",
        "print(odd_to_twenty)\n",
        "print(min(odd_to_twenty))\n",
        "print(max(odd_to_twenty))\n",
        "print(sum(odd_to_twenty))"
      ]
    },
    {
      "cell_type": "code",
      "execution_count": 50,
      "metadata": {
        "colab": {
          "base_uri": "https://localhost:8080/"
        },
        "id": "Llfzwos2dgPj",
        "outputId": "86f2e312-4ac5-447d-b26a-d84d11efabf4"
      },
      "outputs": [
        {
          "name": "stdout",
          "output_type": "stream",
          "text": [
            "['charles', 'martina', 'michael']\n",
            "['charles', 'michael']\n"
          ]
        }
      ],
      "source": [
        "# slicing a list\n",
        "players = ['charles', 'martina', 'michael', 'florence', 'eli']\n",
        "print(players[0:3]) # the slice syntax is not inclusive.\n",
        "print(players[0:3:2]) # third arg can make you skip"
      ]
    },
    {
      "cell_type": "code",
      "execution_count": 51,
      "metadata": {
        "colab": {
          "base_uri": "https://localhost:8080/"
        },
        "id": "bvy2c4BQeFMs",
        "outputId": "14334f23-c41c-4990-e514-0c3845d54b59"
      },
      "outputs": [
        {
          "name": "stdout",
          "output_type": "stream",
          "text": [
            "Three\n",
            "Four\n",
            "Five\n"
          ]
        }
      ],
      "source": [
        "# looping through a slice\n",
        "numbers = ['zero', 'one', 'two', 'three', 'four', 'five']\n",
        "for number in numbers[-3:]:\n",
        "  print(number.title())"
      ]
    },
    {
      "cell_type": "code",
      "execution_count": 52,
      "metadata": {
        "colab": {
          "base_uri": "https://localhost:8080/"
        },
        "id": "-go4LtFKiQRa",
        "outputId": "2d95c98b-1fd5-4077-f529-913448c356f1"
      },
      "outputs": [
        {
          "name": "stdout",
          "output_type": "stream",
          "text": [
            "['zero', 'one', 'two', 'three', 'four', 'five']\n",
            "['zero', 'one', 'two', 'three', 'four', 'five', 'six']\n"
          ]
        }
      ],
      "source": [
        "# copying a list\n",
        "numbers_copy = numbers[:] # use a slice, otherwise ur pointing to same list\n",
        "numbers_copy.append('six')\n",
        "\n",
        "print(numbers)\n",
        "print(numbers_copy)"
      ]
    },
    {
      "cell_type": "code",
      "execution_count": 53,
      "metadata": {
        "colab": {
          "base_uri": "https://localhost:8080/"
        },
        "id": "AgVHzrwFjYFi",
        "outputId": "66c56097-47c5-40d4-f509-03de4480dbb3"
      },
      "outputs": [
        {
          "name": "stdout",
          "output_type": "stream",
          "text": [
            "first three numbers are:\n",
            "zero\n",
            "one\n",
            "two\n"
          ]
        }
      ],
      "source": [
        "# practice\n",
        "print(\"first three numbers are:\")\n",
        "for value in numbers[:3]:\n",
        "  print(value)"
      ]
    },
    {
      "cell_type": "code",
      "execution_count": 54,
      "metadata": {
        "colab": {
          "base_uri": "https://localhost:8080/"
        },
        "id": "jDQyBXeoleDu",
        "outputId": "82da8a1d-a3d3-4416-fe44-f71da7af2432"
      },
      "outputs": [
        {
          "name": "stdout",
          "output_type": "stream",
          "text": [
            "three numbers in the middle are:\n",
            "one\n",
            "two\n",
            "three\n",
            "four\n"
          ]
        }
      ],
      "source": [
        "# practice\n",
        "print(\"three numbers in the middle are:\")\n",
        "for value in numbers[1:5]:\n",
        "  print(value)"
      ]
    },
    {
      "cell_type": "code",
      "execution_count": 55,
      "metadata": {
        "colab": {
          "base_uri": "https://localhost:8080/"
        },
        "id": "qxNoD9cDhdVm",
        "outputId": "5654c146-0fb3-41e5-f4fb-e4eae4141756"
      },
      "outputs": [
        {
          "name": "stdout",
          "output_type": "stream",
          "text": [
            "the last three of a list are:\n",
            "three\n",
            "four\n",
            "five\n"
          ]
        }
      ],
      "source": [
        "# practice\n",
        "print(\"the last three of a list are:\")\n",
        "for value in numbers[-3:]:\n",
        "  print(value)"
      ]
    },
    {
      "cell_type": "code",
      "execution_count": 56,
      "metadata": {
        "colab": {
          "base_uri": "https://localhost:8080/"
        },
        "id": "1R301MJMkIUb",
        "outputId": "c58bf9dd-23b5-4656-b2f0-7d09a0fa8c6a"
      },
      "outputs": [
        {
          "name": "stdout",
          "output_type": "stream",
          "text": [
            "['pepperoni', 'ham', 'veggie']\n",
            "['pepperoni', 'ham', 'veggie', 'canadian']\n"
          ]
        }
      ],
      "source": [
        "# practice\n",
        "pizzas = ['pepperoni', 'ham', 'veggie']\n",
        "friend_pizzas = pizzas[:]\n",
        "friend_pizzas.append('canadian')\n",
        "print(pizzas)\n",
        "print(friend_pizzas)"
      ]
    },
    {
      "cell_type": "code",
      "execution_count": 57,
      "metadata": {
        "colab": {
          "base_uri": "https://localhost:8080/"
        },
        "id": "SCOjJFyHLGe_",
        "outputId": "d1cd086d-95c7-4fea-a71c-e27e8dd1ba9e"
      },
      "outputs": [
        {
          "name": "stdout",
          "output_type": "stream",
          "text": [
            "My favorite pizzas are:\n",
            "pepperoni\n",
            "ham\n",
            "veggie\n",
            "My friends favourite pizzas are:\n",
            "pepperoni\n",
            "ham\n",
            "veggie\n",
            "canadian\n"
          ]
        }
      ],
      "source": [
        "message = \"My favorite pizzas are:\"\n",
        "print(message)\n",
        "for pizza in pizzas:\n",
        "  print(pizza)\n",
        "message = \"My friends favourite pizzas are:\"\n",
        "print(message)\n",
        "for pizza in friend_pizzas:\n",
        "  print(pizza)"
      ]
    },
    {
      "cell_type": "code",
      "execution_count": 58,
      "metadata": {
        "colab": {
          "base_uri": "https://localhost:8080/"
        },
        "id": "51HChj9mL-1U",
        "outputId": "5f4185ff-b6b7-4a6f-c597-769ed484d692"
      },
      "outputs": [
        {
          "name": "stdout",
          "output_type": "stream",
          "text": [
            "150\n",
            "0\n"
          ]
        }
      ],
      "source": [
        "# tuples, tuples are immutable you will receive an error if you try to modify\n",
        "city_coordinates = (150, 0)\n",
        "print(city_coordinates[0])\n",
        "print(city_coordinates[-1])"
      ]
    },
    {
      "cell_type": "code",
      "execution_count": 59,
      "metadata": {
        "colab": {
          "base_uri": "https://localhost:8080/"
        },
        "id": "4CN_WNvqNuOU",
        "outputId": "e2319db7-db10-4dd9-d7fe-5e46e3c716af"
      },
      "outputs": [
        {
          "name": "stdout",
          "output_type": "stream",
          "text": [
            "150\n",
            "0\n"
          ]
        }
      ],
      "source": [
        "# for loops work on tuples too\n",
        "for coordinate in city_coordinates:\n",
        "  print(coordinate)"
      ]
    },
    {
      "cell_type": "code",
      "execution_count": 60,
      "metadata": {
        "colab": {
          "base_uri": "https://localhost:8080/"
        },
        "id": "wHj8KOn2SDlc",
        "outputId": "598336ff-b84e-4496-f6b8-6bea3b98fe3d"
      },
      "outputs": [
        {
          "name": "stdout",
          "output_type": "stream",
          "text": [
            "(2, 4, 25)\n"
          ]
        }
      ],
      "source": [
        "# you can assign a new value to a variable variable that represents a tuple\n",
        "tuple_sample = (1, 13, 30)\n",
        "tuple_sample = (2, 4, 25)\n",
        "print(tuple_sample)"
      ]
    },
    {
      "cell_type": "code",
      "execution_count": 61,
      "metadata": {
        "colab": {
          "base_uri": "https://localhost:8080/"
        },
        "id": "Y1TnYeUWjY3s",
        "outputId": "2485684c-c16b-4a23-fddc-352815a5ee60"
      },
      "outputs": [
        {
          "name": "stdout",
          "output_type": "stream",
          "text": [
            "Current Food Items:\n",
            "noodle\n",
            "soup\n",
            "rice\n",
            "chicken\n",
            "shrimp\n",
            "\n",
            "New Food Items:\n",
            "candy\n",
            "sugar\n",
            "rice\n",
            "chicken\n",
            "shrimp\n"
          ]
        }
      ],
      "source": [
        "buffet_foods = ('noodle', 'soup', 'rice', 'chicken', 'shrimp')\n",
        "print(\"Current Food Items:\")\n",
        "for food in buffet_foods:\n",
        "  print(food)\n",
        "\n",
        "buffet_foods = ('candy', 'sugar', 'rice', 'chicken', 'shrimp')\n",
        "print(\"\\nNew Food Items:\")\n",
        "for food in buffet_foods:\n",
        "  print(food)"
      ]
    },
    {
      "cell_type": "code",
      "execution_count": 62,
      "metadata": {},
      "outputs": [
        {
          "name": "stdout",
          "output_type": "stream",
          "text": [
            "Audi\n",
            "BMW\n",
            "Subaru\n",
            "Toyota\n"
          ]
        }
      ],
      "source": [
        "# learning if statements\n",
        "cars = ['audi', 'bmw', 'subaru', 'toyota']\n",
        "for car in cars:\n",
        "    if car == 'bmw':\n",
        "        print(car.upper())\n",
        "    else:\n",
        "        print(car.title())"
      ]
    },
    {
      "cell_type": "code",
      "execution_count": 65,
      "metadata": {},
      "outputs": [
        {
          "name": "stdout",
          "output_type": "stream",
          "text": [
            "False\n",
            "True\n"
          ]
        }
      ],
      "source": [
        "# checking for equality, case matters when matching strings\n",
        "car = 'Audi'\n",
        "print(car == 'audi')\n",
        "print(car.lower() == 'audi')"
      ]
    },
    {
      "cell_type": "code",
      "execution_count": 69,
      "metadata": {},
      "outputs": [
        {
          "name": "stdout",
          "output_type": "stream",
          "text": [
            "the person answered yes!\n"
          ]
        }
      ],
      "source": [
        "# using an equality within an if statement\n",
        "question_answer = 'yes'\n",
        "\n",
        "if question_answer == 'yes':\n",
        "    print(\"the person answered yes!\")"
      ]
    },
    {
      "cell_type": "code",
      "execution_count": 70,
      "metadata": {},
      "outputs": [
        {
          "name": "stdout",
          "output_type": "stream",
          "text": [
            "the answer was not yes!\n"
          ]
        }
      ],
      "source": [
        "# using an inequality within an if statement\n",
        "question_answer = 'no'\n",
        "\n",
        "if question_answer != 'yes':\n",
        "    print('the answer was not yes!')"
      ]
    },
    {
      "cell_type": "code",
      "execution_count": 71,
      "metadata": {},
      "outputs": [
        {
          "name": "stdout",
          "output_type": "stream",
          "text": [
            "True\n",
            "True\n",
            "True\n",
            "True\n"
          ]
        }
      ],
      "source": [
        "# numerical comparisons\n",
        "print(18 == 18)\n",
        "print(17 >= 16)\n",
        "print(18 <= 19)\n",
        "print(20 != 21)"
      ]
    },
    {
      "cell_type": "code",
      "execution_count": 74,
      "metadata": {},
      "outputs": [
        {
          "name": "stdout",
          "output_type": "stream",
          "text": [
            "this person is age: 18. they can drink in alberta but not in the us.\n"
          ]
        }
      ],
      "source": [
        "# how to check for multiple conditions\n",
        "age = 18\n",
        "if age >= 18 and age < 21:\n",
        "    print(f'this person is age: {age}. they can drink in alberta but not in the us.')"
      ]
    },
    {
      "cell_type": "code",
      "execution_count": 76,
      "metadata": {},
      "outputs": [
        {
          "name": "stdout",
          "output_type": "stream",
          "text": [
            "This person is age: 66. Which means they qualify as a minor or a senior.\n"
          ]
        }
      ],
      "source": [
        "age = 66\n",
        "if age >= 65 or age <= 18:\n",
        "    print(f'This person is age: {age}. Which means they qualify as a minor or a senior.')"
      ]
    },
    {
      "cell_type": "code",
      "execution_count": null,
      "metadata": {},
      "outputs": [],
      "source": []
    }
  ],
  "metadata": {
    "colab": {
      "provenance": []
    },
    "kernelspec": {
      "display_name": ".venv",
      "language": "python",
      "name": "python3"
    },
    "language_info": {
      "codemirror_mode": {
        "name": "ipython",
        "version": 3
      },
      "file_extension": ".py",
      "mimetype": "text/x-python",
      "name": "python",
      "nbconvert_exporter": "python",
      "pygments_lexer": "ipython3",
      "version": "3.13.1"
    }
  },
  "nbformat": 4,
  "nbformat_minor": 0
}
